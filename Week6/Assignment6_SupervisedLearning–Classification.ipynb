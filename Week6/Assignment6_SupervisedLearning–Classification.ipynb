{
  "nbformat": 4,
  "nbformat_minor": 0,
  "metadata": {
    "colab": {
      "provenance": [],
      "authorship_tag": "ABX9TyNuRIJN7e8BtLb9FYNiSyue",
      "include_colab_link": true
    },
    "kernelspec": {
      "name": "python3",
      "display_name": "Python 3"
    },
    "language_info": {
      "name": "python"
    }
  },
  "cells": [
    {
      "cell_type": "markdown",
      "metadata": {
        "id": "view-in-github",
        "colab_type": "text"
      },
      "source": [
        "<a href=\"https://colab.research.google.com/github/AlmasMalik66/DataScience-AI-Assignments/blob/main/Week6/Assignment6_SupervisedLearning%E2%80%93Classification.ipynb\" target=\"_parent\"><img src=\"https://colab.research.google.com/assets/colab-badge.svg\" alt=\"Open In Colab\"/></a>"
      ]
    },
    {
      "cell_type": "markdown",
      "source": [
        "**Step 1: Import Libraries**"
      ],
      "metadata": {
        "id": "zxU6eoxcSiVb"
      }
    },
    {
      "cell_type": "code",
      "execution_count": 64,
      "metadata": {
        "id": "t7KhmvhmNIW7"
      },
      "outputs": [],
      "source": [
        "import pandas as pd\n",
        "import numpy as np\n",
        "from sklearn.model_selection import train_test_split\n",
        "from sklearn.tree import DecisionTreeClassifier\n",
        "from sklearn.ensemble import RandomForestClassifier\n",
        "from sklearn.linear_model import LogisticRegression\n",
        "from sklearn.metrics import accuracy_score, confusion_matrix, classification_report\n",
        "import matplotlib.pyplot as plt\n",
        "import seaborn as sns"
      ]
    },
    {
      "cell_type": "markdown",
      "source": [
        "**Step 2: Load and Prepare Data**"
      ],
      "metadata": {
        "id": "DPMOjyIsTndD"
      }
    },
    {
      "cell_type": "code",
      "source": [
        "df_fake = pd.read_csv(\"Fake.csv\")\n",
        "df_true = pd.read_csv(\"True.csv\")\n",
        "\n",
        "# Add labels\n",
        "df_fake['label'] = 1\n",
        "df_true['label'] = 0\n",
        "\n",
        "# Combine datasets\n",
        "df = pd.concat([df_fake, df_true], ignore_index=True)\n",
        "\n",
        "# Optional: shuffle dataset for randomness\n",
        "df = df.sample(frac=1, random_state=42).reset_index(drop=True)\n"
      ],
      "metadata": {
        "id": "mWyetwqFTzmJ"
      },
      "execution_count": 65,
      "outputs": []
    },
    {
      "cell_type": "markdown",
      "source": [
        "**Step 2.1: Select Features and Create Labels**"
      ],
      "metadata": {
        "id": "kL2m5vReV5zj"
      }
    },
    {
      "cell_type": "code",
      "source": [
        "df['combined_text'] = df['title'] + \" \" + df['text']\n",
        "X = df['combined_text']\n",
        "y = df['label']\n",
        "\n",
        "# Checking missing values\n",
        "print(df.isnull().sum())\n",
        "df = df.dropna(subset=['combined_text'])  # drop rows with empty text\n",
        "\n",
        "\n"
      ],
      "metadata": {
        "colab": {
          "base_uri": "https://localhost:8080/"
        },
        "id": "WmeuKbaIV-UQ",
        "outputId": "471f1328-94de-46db-c721-b32bb403330d"
      },
      "execution_count": 67,
      "outputs": [
        {
          "output_type": "stream",
          "name": "stdout",
          "text": [
            "title            0\n",
            "text             0\n",
            "subject          0\n",
            "date             0\n",
            "label            0\n",
            "combined_text    0\n",
            "dtype: int64\n"
          ]
        }
      ]
    },
    {
      "cell_type": "markdown",
      "source": [
        "**Explanation:**\n",
        "Since this file only contains fake news, you’ll later merge it with true news (from True.csv) to make it a binary classification dataset.\n",
        "But for now, we’re preparing the structure."
      ],
      "metadata": {
        "id": "55FCGkjZWEjH"
      }
    },
    {
      "cell_type": "markdown",
      "source": [
        "**Step 2.2: Split Data**"
      ],
      "metadata": {
        "id": "gMHgN580WKgS"
      }
    },
    {
      "cell_type": "code",
      "source": [
        "# Step 2.2: Split Data into Training and Testing Sets\n",
        "\n",
        "X_train, X_test, y_train, y_test = train_test_split(\n",
        "    X, y,\n",
        "    test_size=0.2,\n",
        "    random_state=42,\n",
        "    stratify=y\n",
        ")\n",
        "print(\"Train class distribution:\\n\", y_train.value_counts())\n",
        "print(\"Test class distribution:\\n\", y_test.value_counts())"
      ],
      "metadata": {
        "colab": {
          "base_uri": "https://localhost:8080/"
        },
        "id": "G3-41_bRWOPD",
        "outputId": "b71f2847-9331-4afc-8d13-1904eb846a7f"
      },
      "execution_count": 68,
      "outputs": [
        {
          "output_type": "stream",
          "name": "stdout",
          "text": [
            "Train class distribution:\n",
            " label\n",
            "1    18785\n",
            "0    17133\n",
            "Name: count, dtype: int64\n",
            "Test class distribution:\n",
            " label\n",
            "1    4696\n",
            "0    4284\n",
            "Name: count, dtype: int64\n"
          ]
        }
      ]
    },
    {
      "cell_type": "markdown",
      "source": [
        "**Step 3: Convert Text Data to Numeric (TF-IDF Vectorization)**"
      ],
      "metadata": {
        "id": "h-TuEH8AWx1R"
      }
    },
    {
      "cell_type": "code",
      "source": [
        "from sklearn.feature_extraction.text import TfidfVectorizer\n",
        "\n",
        "# Initialize TF-IDF Vectorizer\n",
        "vectorizer = TfidfVectorizer(stop_words='english', max_features=5000)\n",
        "\n",
        "# Fit and transform training data, transform test data\n",
        "X_train_tfidf = vectorizer.fit_transform(X_train)\n",
        "X_test_tfidf = vectorizer.transform(X_test)\n",
        "\n",
        "print(\"TF-IDF vectorization complete!\")\n",
        "print(\"Training data shape:\", X_train_tfidf.shape)\n",
        "print(\"Testing data shape:\", X_test_tfidf.shape)\n"
      ],
      "metadata": {
        "colab": {
          "base_uri": "https://localhost:8080/"
        },
        "id": "fsbp_YcdW2SN",
        "outputId": "1f5832f3-68bc-4e67-a545-8d04c12a91d4"
      },
      "execution_count": 73,
      "outputs": [
        {
          "output_type": "stream",
          "name": "stdout",
          "text": [
            "TF-IDF vectorization complete!\n",
            "Training data shape: (35918, 5000)\n",
            "Testing data shape: (8980, 5000)\n"
          ]
        }
      ]
    },
    {
      "cell_type": "markdown",
      "source": [
        "**Explanation:**\n",
        "\n",
        "* TF-IDF (Term Frequency–Inverse Document Frequency) converts text into numbers based on word importance.\n",
        "* stop_words='english' removes common words like “the”, “and”, “is”.\n",
        "* max_features=5000 keeps the top 5000 most important words.\n",
        "After this, dataset is ready for model training!"
      ],
      "metadata": {
        "id": "s0mpi3r1W9bP"
      }
    },
    {
      "cell_type": "markdown",
      "source": [
        "**Step 4: Class Task — Decision Tree & Random Forest**"
      ],
      "metadata": {
        "id": "s9iw-4O6XQmk"
      }
    },
    {
      "cell_type": "code",
      "source": [
        "# 1 Decision Tree Model\n",
        "tree_model = DecisionTreeClassifier(random_state=42)\n",
        "tree_model.fit(X_train_tfidf, y_train)\n",
        "y_pred_tree = tree_model.predict(X_test_tfidf)\n",
        "\n",
        "acc_tree = accuracy_score(y_test, y_pred_tree)\n",
        "print(\"Decision Tree Accuracy:\", round(acc_tree, 3))\n",
        "\n",
        "# 2 Random Forest Model\n",
        "rf_model = RandomForestClassifier(n_estimators=100, random_state=42)\n",
        "rf_model.fit(X_train_tfidf, y_train)\n",
        "y_pred_rf = rf_model.predict(X_test_tfidf)\n",
        "\n",
        "acc_rf = accuracy_score(y_test, y_pred_rf)\n",
        "print(\"Random Forest Accuracy:\", round(acc_rf, 3))\n",
        "\n",
        "# classification report for detailed metrics\n",
        "print(\"Decision Tree Report:\\n\", classification_report(y_test, y_pred_tree))\n",
        "print(\"Random Forest Report:\\n\", classification_report(y_test, y_pred_rf))\n"
      ],
      "metadata": {
        "colab": {
          "base_uri": "https://localhost:8080/"
        },
        "id": "L7OEyTQ1YKkH",
        "outputId": "fcd19650-4d75-402a-aabb-efe5629f6def"
      },
      "execution_count": 74,
      "outputs": [
        {
          "output_type": "stream",
          "name": "stdout",
          "text": [
            "Decision Tree Accuracy: 0.996\n",
            "Random Forest Accuracy: 0.998\n",
            "Decision Tree Report:\n",
            "               precision    recall  f1-score   support\n",
            "\n",
            "           0       1.00      1.00      1.00      4284\n",
            "           1       1.00      1.00      1.00      4696\n",
            "\n",
            "    accuracy                           1.00      8980\n",
            "   macro avg       1.00      1.00      1.00      8980\n",
            "weighted avg       1.00      1.00      1.00      8980\n",
            "\n",
            "Random Forest Report:\n",
            "               precision    recall  f1-score   support\n",
            "\n",
            "           0       1.00      1.00      1.00      4284\n",
            "           1       1.00      1.00      1.00      4696\n",
            "\n",
            "    accuracy                           1.00      8980\n",
            "   macro avg       1.00      1.00      1.00      8980\n",
            "weighted avg       1.00      1.00      1.00      8980\n",
            "\n"
          ]
        }
      ]
    },
    {
      "cell_type": "markdown",
      "source": [
        "**Step 5: Visualize Confusion Matrix**"
      ],
      "metadata": {
        "id": "xLsaynWKYbRm"
      }
    },
    {
      "cell_type": "code",
      "source": [
        "# Step 5: Visualize Confusion Matrix\n",
        "\n",
        "import seaborn as sns\n",
        "import matplotlib.pyplot as plt\n",
        "\n",
        "plt.figure(figsize=(6,4))\n",
        "sns.heatmap(confusion_matrix(y_test, y_pred_rf), annot=True, fmt='d', cmap='Blues')\n",
        "plt.title(\"Random Forest Confusion Matrix\")\n",
        "plt.xlabel(\"Predicted\")\n",
        "plt.ylabel(\"Actual\")\n",
        "plt.show()\n"
      ],
      "metadata": {
        "colab": {
          "base_uri": "https://localhost:8080/",
          "height": 465
        },
        "id": "rQdTw5p4YmPP",
        "outputId": "fc76afb7-a279-4866-f894-f1db39168b31"
      },
      "execution_count": 51,
      "outputs": [
        {
          "output_type": "stream",
          "name": "stderr",
          "text": [
            "/usr/local/lib/python3.12/dist-packages/sklearn/metrics/_classification.py:407: UserWarning: A single label was found in 'y_true' and 'y_pred'. For the confusion matrix to have the correct shape, use the 'labels' parameter to pass all known labels.\n",
            "  warnings.warn(\n"
          ]
        },
        {
          "output_type": "display_data",
          "data": {
            "text/plain": [
              "<Figure size 600x400 with 2 Axes>"
            ],
            "image/png": "[encoded data removed]"
          },
          "metadata": {}
        }
      ]
    },
    {
      "cell_type": "markdown",
      "source": [
        "# **Step 6: Assignment – Logistic Regression & Random Forest Comparison**"
      ],
      "metadata": {
        "id": "BnORqFwwcN4L"
      }
    },
    {
      "cell_type": "code",
      "source": [
        "# 1 Logistic Regression Model\n",
        "log_model = LogisticRegression(max_iter=1000, random_state=42)\n",
        "log_model.fit(X_train_tfidf, y_train)\n",
        "y_pred_log = log_model.predict(X_test_tfidf)\n",
        "\n",
        "acc_log = accuracy_score(y_test, y_pred_log)\n",
        "print(\"Logistic Regression Accuracy:\", round(acc_log, 3))\n",
        "\n",
        "# 2 Random Forest Model (retrain for comparison)\n",
        "rf_model = RandomForestClassifier(n_estimators=100, random_state=42)\n",
        "rf_model.fit(X_train_tfidf, y_train)\n",
        "y_pred_rf = rf_model.predict(X_test_tfidf)\n",
        "\n",
        "acc_rf = accuracy_score(y_test, y_pred_rf)\n",
        "print(\"Random Forest Accuracy:\", round(acc_rf, 3))\n",
        "\n",
        "print(\"Logistic Regression Report:\\n\", classification_report(y_test, y_pred_log))\n",
        "print(\"Random Forest Report:\\n\", classification_report(y_test, y_pred_rf))\n",
        "\n"
      ],
      "metadata": {
        "colab": {
          "base_uri": "https://localhost:8080/"
        },
        "id": "kDlGCLmpcaLz",
        "outputId": "364bce34-3e1f-4afe-ab15-08979aa9a796"
      },
      "execution_count": 77,
      "outputs": [
        {
          "output_type": "stream",
          "name": "stdout",
          "text": [
            "Logistic Regression Accuracy: 0.988\n",
            "Random Forest Accuracy: 0.998\n",
            "Logistic Regression Report:\n",
            "               precision    recall  f1-score   support\n",
            "\n",
            "           0       0.98      0.99      0.99      4284\n",
            "           1       0.99      0.98      0.99      4696\n",
            "\n",
            "    accuracy                           0.99      8980\n",
            "   macro avg       0.99      0.99      0.99      8980\n",
            "weighted avg       0.99      0.99      0.99      8980\n",
            "\n",
            "Random Forest Report:\n",
            "               precision    recall  f1-score   support\n",
            "\n",
            "           0       1.00      1.00      1.00      4284\n",
            "           1       1.00      1.00      1.00      4696\n",
            "\n",
            "    accuracy                           1.00      8980\n",
            "   macro avg       1.00      1.00      1.00      8980\n",
            "weighted avg       1.00      1.00      1.00      8980\n",
            "\n"
          ]
        }
      ]
    },
    {
      "cell_type": "markdown",
      "source": [
        "**Results Summary**\n",
        "\n",
        "| Model               | Accuracy | Precision   | Recall      | F1-Score | Key Insight                                                       |\n",
        "| ------------------- | -------- | ----------- | ----------- | -------- | ----------------------------------------------------------------- |\n",
        "| Logistic Regression | 0.988    | 0.98 / 0.99 | 0.99 / 0.98 | 0.99     | High accuracy; stable performance across Fake and True news       |\n",
        "| Random Forest       | 0.998    | 1.00 / 1.00 | 1.00 / 1.00 | 1.00     | Nearly perfect classification; robust to complex patterns in text |\n",
        "\n",
        "\n",
        "**Conclusion**\n",
        "\n",
        "Both Logistic Regression and Random Forest achieved very high accuracy in classifying news articles as Fake or True. However:\n",
        "\n",
        "* Random Forest performed slightly better, achieving nearly perfect predictions for both classes (Fake and True), meaning it correctly identified almost every news article.\n",
        "* Logistic Regression also performed extremely well (98.8% accuracy) and provides faster computation and interpretability, making it a reliable baseline.\n",
        "\n",
        "**Final Observation:**\n",
        "While both models are strong for detecting Fake news, Random Forest is slightly preferred for deployment in real-world applications because it can capture complex patterns in the text, giving more robust predictions for new, unseen articles."
      ],
      "metadata": {
        "id": "IcACqFG0-pwG"
      }
    }
  ]
}